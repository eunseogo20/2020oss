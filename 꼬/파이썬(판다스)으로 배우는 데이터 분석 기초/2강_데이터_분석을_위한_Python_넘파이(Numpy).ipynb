{
  "nbformat": 4,
  "nbformat_minor": 0,
  "metadata": {
    "kernelspec": {
      "display_name": "Python 3",
      "language": "python",
      "name": "python3"
    },
    "language_info": {
      "codemirror_mode": {
        "name": "ipython",
        "version": 3
      },
      "file_extension": ".py",
      "mimetype": "text/x-python",
      "name": "python",
      "nbconvert_exporter": "python",
      "pygments_lexer": "ipython3",
      "version": "3.7.9"
    },
    "toc": {
      "base_numbering": 1,
      "nav_menu": {
        "height": "144px",
        "width": "160px"
      },
      "number_sections": false,
      "sideBar": true,
      "skip_h1_title": false,
      "title_cell": "Table of Contents",
      "title_sidebar": "Contents",
      "toc_cell": false,
      "toc_position": {},
      "toc_section_display": true,
      "toc_window_display": false
    },
    "varInspector": {
      "cols": {
        "lenName": 16,
        "lenType": 16,
        "lenVar": 40
      },
      "kernels_config": {
        "python": {
          "delete_cmd_postfix": "",
          "delete_cmd_prefix": "del ",
          "library": "var_list.py",
          "varRefreshCmd": "print(var_dic_list())"
        },
        "r": {
          "delete_cmd_postfix": ") ",
          "delete_cmd_prefix": "rm(",
          "library": "var_list.r",
          "varRefreshCmd": "cat(var_dic_list()) "
        }
      },
      "types_to_exclude": [
        "module",
        "function",
        "builtin_function_or_method",
        "instance",
        "_Feature"
      ],
      "window_display": false
    },
    "colab": {
      "name": "2강_데이터_분석을_위한_Python_넘파이(Numpy).ipynb",
      "provenance": []
    }
  },
  "cells": [
    {
      "cell_type": "markdown",
      "metadata": {
        "id": "PQOjxnbtXdlI"
      },
      "source": [
        "### Numpy"
      ]
    },
    {
      "cell_type": "markdown",
      "metadata": {
        "id": "zjt9-0GLXdlR"
      },
      "source": [
        "#### numpy 기본 1. 다차원 배열 만들기"
      ]
    },
    {
      "cell_type": "code",
      "metadata": {
        "id": "RbP244iLXdlU"
      },
      "source": [
        "# numpy 임포트\n",
        "import numpy as np"
      ],
      "execution_count": null,
      "outputs": []
    },
    {
      "cell_type": "code",
      "metadata": {
        "id": "Y7UjFarSXdlX"
      },
      "source": [
        "import numpy as np"
      ],
      "execution_count": 1,
      "outputs": []
    },
    {
      "cell_type": "code",
      "metadata": {
        "id": "HBxcSw8NXdlY",
        "outputId": "1bc91c7c-3ab2-4de5-edc8-be65e191cb32"
      },
      "source": [
        "# 1차원 배열 생성하기\n",
        "넘파이_배열1 = np.array([1,2,3,4])\n",
        "넘파이_배열1"
      ],
      "execution_count": null,
      "outputs": [
        {
          "output_type": "execute_result",
          "data": {
            "text/plain": [
              "array([1, 2, 3, 4])"
            ]
          },
          "metadata": {
            "tags": []
          },
          "execution_count": 2
        }
      ]
    },
    {
      "cell_type": "code",
      "metadata": {
        "id": "wnuaGj0kXdld",
        "outputId": "087cf389-6c60-4f3d-e23c-114dc6fc747c",
        "colab": {
          "base_uri": "https://localhost:8080/"
        }
      },
      "source": [
        "넘파이_배열1 = np.array([1,2,3,4])\n",
        "넘파이_배열1"
      ],
      "execution_count": 2,
      "outputs": [
        {
          "output_type": "execute_result",
          "data": {
            "text/plain": [
              "array([1, 2, 3, 4])"
            ]
          },
          "metadata": {
            "tags": []
          },
          "execution_count": 2
        }
      ]
    },
    {
      "cell_type": "code",
      "metadata": {
        "id": "-884FncmXdle",
        "outputId": "4658ac13-0e37-4c6c-f7b8-919f5d27ee79"
      },
      "source": [
        "# 2차원 배열 생성하기\n",
        "넘파이_배열2 = np.array([[1,2,3,4],[11,12,13,14]])\n",
        "넘파이_배열2"
      ],
      "execution_count": null,
      "outputs": [
        {
          "output_type": "execute_result",
          "data": {
            "text/plain": [
              "array([[ 1,  2,  3,  4],\n",
              "       [11, 12, 13, 14]])"
            ]
          },
          "metadata": {
            "tags": []
          },
          "execution_count": 3
        }
      ]
    },
    {
      "cell_type": "code",
      "metadata": {
        "id": "iePIe682Xdlg",
        "outputId": "7009e7dd-9aa0-4bbf-fc98-5252b7128f03",
        "colab": {
          "base_uri": "https://localhost:8080/"
        }
      },
      "source": [
        "넘파이_배열2 = np.array([[1,2,3,4], [11,12,13,14]])\n",
        "넘파이_배열2"
      ],
      "execution_count": 4,
      "outputs": [
        {
          "output_type": "execute_result",
          "data": {
            "text/plain": [
              "array([[ 1,  2,  3,  4],\n",
              "       [11, 12, 13, 14]])"
            ]
          },
          "metadata": {
            "tags": []
          },
          "execution_count": 4
        }
      ]
    },
    {
      "cell_type": "code",
      "metadata": {
        "id": "js3NxzszXdlh",
        "outputId": "2f6a6e95-568d-46a6-9e5d-521979afc845"
      },
      "source": [
        "# 3차원 배열 생성하기\n",
        "넘파이_배열3 = np.array([ [[1,2,3,4],[11,12,13,14]],\n",
        "                [[21,22,23,24],[31,32,33,34]] ])\n",
        "넘파이_배열3"
      ],
      "execution_count": null,
      "outputs": [
        {
          "output_type": "execute_result",
          "data": {
            "text/plain": [
              "array([[[ 1,  2,  3,  4],\n",
              "        [11, 12, 13, 14]],\n",
              "\n",
              "       [[21, 22, 23, 24],\n",
              "        [31, 32, 33, 34]]])"
            ]
          },
          "metadata": {
            "tags": []
          },
          "execution_count": 4
        }
      ]
    },
    {
      "cell_type": "code",
      "metadata": {
        "id": "D2FYd1FPXdli",
        "outputId": "fe9587f8-1275-424d-acaa-10f5dfcb2b56",
        "colab": {
          "base_uri": "https://localhost:8080/"
        }
      },
      "source": [
        "넘파이_배열3  = np.array([ [[1,2,3,4],[11,12,13,14]],\n",
        "                     [[21,22,23,24],[31,32,33,34]]])\n",
        "넘파이_배열3"
      ],
      "execution_count": 5,
      "outputs": [
        {
          "output_type": "execute_result",
          "data": {
            "text/plain": [
              "array([[[ 1,  2,  3,  4],\n",
              "        [11, 12, 13, 14]],\n",
              "\n",
              "       [[21, 22, 23, 24],\n",
              "        [31, 32, 33, 34]]])"
            ]
          },
          "metadata": {
            "tags": []
          },
          "execution_count": 5
        }
      ]
    },
    {
      "cell_type": "code",
      "metadata": {
        "id": "9p_OIac9Xdlj",
        "outputId": "e75ed1a9-b726-4830-f1de-56fd4f71663d"
      },
      "source": [
        "# 배열의 모양 보기\n",
        "print(넘파이_배열1.shape)\n",
        "print(넘파이_배열2.shape)\n",
        "print(넘파이_배열3.shape)"
      ],
      "execution_count": null,
      "outputs": [
        {
          "output_type": "stream",
          "text": [
            "(4,)\n",
            "(2, 4)\n",
            "(2, 2, 4)\n"
          ],
          "name": "stdout"
        }
      ]
    },
    {
      "cell_type": "code",
      "metadata": {
        "id": "0RPa0OFhXdll",
        "outputId": "741f43fc-9f10-4e4a-b203-652f6f91734d",
        "colab": {
          "base_uri": "https://localhost:8080/"
        }
      },
      "source": [
        "print(넘파이_배열1.shape)\n",
        "print(넘파이_배열2.shape)\n",
        "print(넘파이_배열3.shape)"
      ],
      "execution_count": 7,
      "outputs": [
        {
          "output_type": "stream",
          "text": [
            "(4,)\n",
            "(2, 4)\n",
            "(2, 2, 4)\n"
          ],
          "name": "stdout"
        }
      ]
    },
    {
      "cell_type": "code",
      "metadata": {
        "id": "t88LM9YuXdlm"
      },
      "source": [
        "z1 = np.zeros([4])    # 0 으로 채운 배열 만들기\n",
        "o2 = np.ones([3,4])   # 1 로 채운 배열 만들기\n",
        "r2 = np.random.randn(2,3)   # 랜덤한 숫자 배열 만들기"
      ],
      "execution_count": null,
      "outputs": []
    },
    {
      "cell_type": "code",
      "metadata": {
        "id": "OfxcHwQAXdln"
      },
      "source": [
        "z1 = np.zeros([4])\n",
        "o2 = np.ones([3,4])\n",
        "r2 = np.random.randn(2,3)"
      ],
      "execution_count": 10,
      "outputs": []
    },
    {
      "cell_type": "code",
      "metadata": {
        "id": "Rr3qwOMOXdlo",
        "outputId": "3255ea6e-40b8-4862-bbd6-94113a53d12c"
      },
      "source": [
        "z1, o2, r2"
      ],
      "execution_count": null,
      "outputs": [
        {
          "output_type": "execute_result",
          "data": {
            "text/plain": [
              "(array([0., 0., 0., 0.]),\n",
              " array([[1., 1., 1., 1.],\n",
              "        [1., 1., 1., 1.],\n",
              "        [1., 1., 1., 1.]]),\n",
              " array([[-0.5463959 , -1.29965629, -0.43717161],\n",
              "        [-1.83098543,  1.37599679, -0.08877425]]))"
            ]
          },
          "metadata": {
            "tags": []
          },
          "execution_count": 7
        }
      ]
    },
    {
      "cell_type": "code",
      "metadata": {
        "id": "0N2SawSJXdlp"
      },
      "source": [
        ""
      ],
      "execution_count": null,
      "outputs": []
    },
    {
      "cell_type": "code",
      "metadata": {
        "id": "cjfXhuw-Xdlq",
        "outputId": "0dd3125c-5eee-4403-f2e7-aa64c3b3f416"
      },
      "source": [
        "# 배열의 모양 보기\n",
        "print(z1.shape)\n",
        "print(o2.shape)\n",
        "print(r2.shape)"
      ],
      "execution_count": null,
      "outputs": [
        {
          "output_type": "stream",
          "text": [
            "(4,)\n",
            "(3, 4)\n",
            "(2, 3)\n"
          ],
          "name": "stdout"
        }
      ]
    },
    {
      "cell_type": "code",
      "metadata": {
        "id": "hA4cTBINXdls",
        "outputId": "0fd3d8d6-a74e-4e65-db00-a7ae094af0a6",
        "colab": {
          "base_uri": "https://localhost:8080/"
        }
      },
      "source": [
        "print(z1.shape)\n",
        "print(o2.shape)\n",
        "print(r2.shape)"
      ],
      "execution_count": 12,
      "outputs": [
        {
          "output_type": "stream",
          "text": [
            "(4,)\n",
            "(3, 4)\n",
            "(2, 3)\n"
          ],
          "name": "stdout"
        }
      ]
    },
    {
      "cell_type": "code",
      "metadata": {
        "id": "MBvDJPuUXdls",
        "outputId": "a0b22d36-a24d-49cb-e987-086b54473716"
      },
      "source": [
        "# 무척 큰 4차원 배열 생성해보기\n",
        "r4 = np.random.randn(2,2,4,5).round(3)\n",
        "r4"
      ],
      "execution_count": null,
      "outputs": [
        {
          "output_type": "execute_result",
          "data": {
            "text/plain": [
              "array([[[[ 2.985, -1.633, -1.02 , -0.099, -1.98 ],\n",
              "         [-0.273, -0.531, -0.393,  0.128,  0.018],\n",
              "         [-0.121,  0.391, -0.491,  0.694,  0.853],\n",
              "         [ 0.091,  0.453, -0.083, -0.051,  0.24 ]],\n",
              "\n",
              "        [[-1.318, -0.503,  0.448, -1.078, -0.515],\n",
              "         [ 0.046,  1.444,  0.188, -0.899, -0.745],\n",
              "         [-1.375, -0.447,  0.353,  0.007, -0.307],\n",
              "         [ 0.302, -0.848, -0.609,  0.1  , -0.124]]],\n",
              "\n",
              "\n",
              "       [[[-0.625, -0.338,  0.968, -0.309, -1.093],\n",
              "         [-0.035, -1.171, -1.622,  0.714, -0.756],\n",
              "         [-0.38 ,  2.061, -1.237, -0.558, -1.787],\n",
              "         [ 2.575,  1.109, -0.498, -1.05 ,  0.168]],\n",
              "\n",
              "        [[ 0.487, -0.441,  0.247, -1.274, -0.379],\n",
              "         [ 0.212,  0.156, -0.138,  1.336, -0.016],\n",
              "         [-1.747,  1.056,  0.209,  0.779,  0.839],\n",
              "         [ 0.329,  0.599, -0.032, -0.689, -1.579]]]])"
            ]
          },
          "metadata": {
            "tags": []
          },
          "execution_count": 10
        }
      ]
    },
    {
      "cell_type": "code",
      "metadata": {
        "id": "Ii3XTAdJXdlu",
        "outputId": "efecb26e-b8d6-4180-d2b6-9c25026ec317",
        "colab": {
          "base_uri": "https://localhost:8080/"
        }
      },
      "source": [
        "r4 = np.random.randn(2,2,4,5).round(3)\n",
        "r4"
      ],
      "execution_count": 14,
      "outputs": [
        {
          "output_type": "execute_result",
          "data": {
            "text/plain": [
              "array([[[[ 1.208, -1.757, -0.091, -0.044, -0.492],\n",
              "         [ 0.601,  0.518,  0.713, -1.446, -0.818],\n",
              "         [ 0.232,  0.417, -0.996, -0.734,  1.095],\n",
              "         [ 0.273, -0.311, -1.049, -1.048,  0.938]],\n",
              "\n",
              "        [[-1.484, -0.238, -1.122, -0.341, -1.159],\n",
              "         [-0.165, -0.772,  0.841, -1.117, -0.376],\n",
              "         [-0.09 , -0.065, -0.908,  0.319,  0.544],\n",
              "         [ 1.305, -0.039,  1.471, -1.089, -1.043]]],\n",
              "\n",
              "\n",
              "       [[[ 0.823, -1.229, -2.239,  0.714,  1.436],\n",
              "         [-0.179, -0.413, -1.603, -0.16 ,  1.524],\n",
              "         [-1.504,  2.125, -1.677,  0.476, -0.254],\n",
              "         [-0.039,  0.451, -0.01 ,  0.243, -1.073]],\n",
              "\n",
              "        [[-0.767,  1.259,  0.29 , -1.507, -0.194],\n",
              "         [-0.114,  1.272, -1.059,  0.333,  0.375],\n",
              "         [-0.177, -1.221, -1.109, -0.685, -0.077],\n",
              "         [ 1.064, -0.075, -0.727,  1.889,  1.661]]]])"
            ]
          },
          "metadata": {
            "tags": []
          },
          "execution_count": 14
        }
      ]
    },
    {
      "cell_type": "markdown",
      "metadata": {
        "id": "jlaQiMViXdlv"
      },
      "source": [
        "#### numpy 기본 2. Indexing과 Slicing"
      ]
    },
    {
      "cell_type": "code",
      "metadata": {
        "id": "f7A0_yJbXdlv",
        "outputId": "56310b5a-8d11-453b-9ce1-bc68c2ea5b3d"
      },
      "source": [
        "# r4 배열에서, [두번째][첫번째] 접근해서 가져오기\n",
        "r4[1][0]"
      ],
      "execution_count": null,
      "outputs": [
        {
          "output_type": "execute_result",
          "data": {
            "text/plain": [
              "array([[-0.625, -0.338,  0.968, -0.309, -1.093],\n",
              "       [-0.035, -1.171, -1.622,  0.714, -0.756],\n",
              "       [-0.38 ,  2.061, -1.237, -0.558, -1.787],\n",
              "       [ 2.575,  1.109, -0.498, -1.05 ,  0.168]])"
            ]
          },
          "metadata": {
            "tags": []
          },
          "execution_count": 11
        }
      ]
    },
    {
      "cell_type": "code",
      "metadata": {
        "id": "G-pq5r5qXdlx",
        "outputId": "c94c640e-b131-49d3-d3b9-e27a40fc58e5",
        "colab": {
          "base_uri": "https://localhost:8080/"
        }
      },
      "source": [
        "r4[1][0]"
      ],
      "execution_count": 15,
      "outputs": [
        {
          "output_type": "execute_result",
          "data": {
            "text/plain": [
              "array([[ 0.823, -1.229, -2.239,  0.714,  1.436],\n",
              "       [-0.179, -0.413, -1.603, -0.16 ,  1.524],\n",
              "       [-1.504,  2.125, -1.677,  0.476, -0.254],\n",
              "       [-0.039,  0.451, -0.01 ,  0.243, -1.073]])"
            ]
          },
          "metadata": {
            "tags": []
          },
          "execution_count": 15
        }
      ]
    },
    {
      "cell_type": "code",
      "metadata": {
        "id": "ITWBETsIXdlx",
        "outputId": "b0c3c0bc-6f58-4fd9-e2b0-942857c452d5"
      },
      "source": [
        "r4[1][0][2]"
      ],
      "execution_count": null,
      "outputs": [
        {
          "output_type": "execute_result",
          "data": {
            "text/plain": [
              "array([-0.38 ,  2.061, -1.237, -0.558, -1.787])"
            ]
          },
          "metadata": {
            "tags": []
          },
          "execution_count": 12
        }
      ]
    },
    {
      "cell_type": "code",
      "metadata": {
        "id": "qKiI51-mXdlz",
        "outputId": "4e7656cb-a8d0-4a27-abfa-faa7951ced35",
        "colab": {
          "base_uri": "https://localhost:8080/"
        }
      },
      "source": [
        "r4[1][0][2]"
      ],
      "execution_count": 18,
      "outputs": [
        {
          "output_type": "execute_result",
          "data": {
            "text/plain": [
              "array([-1.504,  2.125, -1.677,  0.476, -0.254])"
            ]
          },
          "metadata": {
            "tags": []
          },
          "execution_count": 18
        }
      ]
    },
    {
      "cell_type": "code",
      "metadata": {
        "id": "Z0Oh0vanXdl0",
        "outputId": "9bfb8f6c-71c9-4cad-999f-3d6a065ef7cd"
      },
      "source": [
        "r4[1][0][2][4]"
      ],
      "execution_count": null,
      "outputs": [
        {
          "output_type": "execute_result",
          "data": {
            "text/plain": [
              "-1.787"
            ]
          },
          "metadata": {
            "tags": []
          },
          "execution_count": 13
        }
      ]
    },
    {
      "cell_type": "code",
      "metadata": {
        "id": "9aP0Vw8ZXdl2",
        "outputId": "c914e5cb-51ed-45ff-9897-0889deecdf04",
        "colab": {
          "base_uri": "https://localhost:8080/"
        }
      },
      "source": [
        "r4[1][0][2][4]"
      ],
      "execution_count": 19,
      "outputs": [
        {
          "output_type": "execute_result",
          "data": {
            "text/plain": [
              "-0.254"
            ]
          },
          "metadata": {
            "tags": []
          },
          "execution_count": 19
        }
      ]
    },
    {
      "cell_type": "code",
      "metadata": {
        "id": "tFRVUZ2XXdl2",
        "outputId": "bb05439b-ce5b-4bac-be14-76a349391406"
      },
      "source": [
        "r4[1,0,2,4]   # 대괄호 대신 쉼표 , 도 차원 접근이 가능"
      ],
      "execution_count": null,
      "outputs": [
        {
          "output_type": "execute_result",
          "data": {
            "text/plain": [
              "-1.787"
            ]
          },
          "metadata": {
            "tags": []
          },
          "execution_count": 14
        }
      ]
    },
    {
      "cell_type": "code",
      "metadata": {
        "id": "NykxFSDUXdl4",
        "outputId": "fc7ead10-6406-4641-d10c-89842819a091",
        "colab": {
          "base_uri": "https://localhost:8080/"
        }
      },
      "source": [
        "r4[1,0,2,4]"
      ],
      "execution_count": 20,
      "outputs": [
        {
          "output_type": "execute_result",
          "data": {
            "text/plain": [
              "-0.254"
            ]
          },
          "metadata": {
            "tags": []
          },
          "execution_count": 20
        }
      ]
    },
    {
      "cell_type": "code",
      "metadata": {
        "id": "tyWGK7vBXdl4",
        "outputId": "3eb94c5a-3816-4ffb-d7c1-43a412743946"
      },
      "source": [
        "r4[1][0][2][0:4:2]"
      ],
      "execution_count": null,
      "outputs": [
        {
          "output_type": "execute_result",
          "data": {
            "text/plain": [
              "array([-0.38 , -1.237])"
            ]
          },
          "metadata": {
            "tags": []
          },
          "execution_count": 15
        }
      ]
    },
    {
      "cell_type": "code",
      "metadata": {
        "id": "q8X1K9pRXdl6",
        "outputId": "7de5d12a-ed38-467d-a3fb-f1967abd97cb",
        "colab": {
          "base_uri": "https://localhost:8080/"
        }
      },
      "source": [
        "r4[1][0][2][0:4:2]"
      ],
      "execution_count": 22,
      "outputs": [
        {
          "output_type": "execute_result",
          "data": {
            "text/plain": [
              "array([-1.504, -1.677])"
            ]
          },
          "metadata": {
            "tags": []
          },
          "execution_count": 22
        }
      ]
    },
    {
      "cell_type": "code",
      "metadata": {
        "id": "tMG2HbblXdl7",
        "outputId": "de259112-61a9-4a13-d3d2-89b5e1ceb895"
      },
      "source": [
        "r4[1][0][1:4:2]"
      ],
      "execution_count": null,
      "outputs": [
        {
          "output_type": "execute_result",
          "data": {
            "text/plain": [
              "array([[-0.035, -1.171, -1.622,  0.714, -0.756],\n",
              "       [ 2.575,  1.109, -0.498, -1.05 ,  0.168]])"
            ]
          },
          "metadata": {
            "tags": []
          },
          "execution_count": 16
        }
      ]
    },
    {
      "cell_type": "code",
      "metadata": {
        "id": "LLGthxpiXdl8",
        "outputId": "8333da2b-ab5d-4093-c48d-0d1a44dd3efc",
        "colab": {
          "base_uri": "https://localhost:8080/"
        }
      },
      "source": [
        "r4[1][0][1:4:2]"
      ],
      "execution_count": 23,
      "outputs": [
        {
          "output_type": "execute_result",
          "data": {
            "text/plain": [
              "array([[-0.179, -0.413, -1.603, -0.16 ,  1.524],\n",
              "       [-0.039,  0.451, -0.01 ,  0.243, -1.073]])"
            ]
          },
          "metadata": {
            "tags": []
          },
          "execution_count": 23
        }
      ]
    },
    {
      "cell_type": "code",
      "metadata": {
        "id": "UiMhdJAOXdl8",
        "outputId": "407f8165-9277-41e0-a2fb-2daa67d7dabc"
      },
      "source": [
        "# Indexing과 Slicing 같이 적용하기\n",
        "r4[1][0][1:4:2][1][3:]"
      ],
      "execution_count": null,
      "outputs": [
        {
          "output_type": "execute_result",
          "data": {
            "text/plain": [
              "array([-1.05 ,  0.168])"
            ]
          },
          "metadata": {
            "tags": []
          },
          "execution_count": 17
        }
      ]
    },
    {
      "cell_type": "code",
      "metadata": {
        "id": "UgQ7yIcIXdl-",
        "outputId": "f23660ba-6564-46a9-8215-ab8d8d9bc8ff",
        "colab": {
          "base_uri": "https://localhost:8080/"
        }
      },
      "source": [
        "r4[1][0][1:4:2][1][3:]"
      ],
      "execution_count": 24,
      "outputs": [
        {
          "output_type": "execute_result",
          "data": {
            "text/plain": [
              "array([ 0.243, -1.073])"
            ]
          },
          "metadata": {
            "tags": []
          },
          "execution_count": 24
        }
      ]
    },
    {
      "cell_type": "code",
      "metadata": {
        "id": "5w625-TLXdl-",
        "outputId": "4b887db1-df11-47ad-c01b-a0463f654e15"
      },
      "source": [
        "r4[1,0][1:4:2][1,3:]   # 모두 다 짬뽕!!"
      ],
      "execution_count": null,
      "outputs": [
        {
          "output_type": "execute_result",
          "data": {
            "text/plain": [
              "array([-1.05 ,  0.168])"
            ]
          },
          "metadata": {
            "tags": []
          },
          "execution_count": 18
        }
      ]
    },
    {
      "cell_type": "code",
      "metadata": {
        "id": "IaUnEtYYXdl_",
        "outputId": "8ccb9a8d-b295-4456-dc9f-3845335eaa08",
        "colab": {
          "base_uri": "https://localhost:8080/"
        }
      },
      "source": [
        "r4[1,0][1:4:2][1,3:]"
      ],
      "execution_count": 25,
      "outputs": [
        {
          "output_type": "execute_result",
          "data": {
            "text/plain": [
              "array([ 0.243, -1.073])"
            ]
          },
          "metadata": {
            "tags": []
          },
          "execution_count": 25
        }
      ]
    },
    {
      "cell_type": "markdown",
      "metadata": {
        "id": "iIWHUhxOXdmA"
      },
      "source": [
        "#### numpy 기본 3. 배열 간 연산, Broadcasting, Aggregation"
      ]
    },
    {
      "cell_type": "code",
      "metadata": {
        "id": "gAqBQ-7OXdmB",
        "outputId": "7f4c9a2a-45ac-4a19-90dd-2d812f86594d"
      },
      "source": [
        "arr = np.array([[1,2,3,4],[10,11,12,13]])\n",
        "arr"
      ],
      "execution_count": null,
      "outputs": [
        {
          "output_type": "execute_result",
          "data": {
            "text/plain": [
              "array([[ 1,  2,  3,  4],\n",
              "       [10, 11, 12, 13]])"
            ]
          },
          "metadata": {
            "tags": []
          },
          "execution_count": 19
        }
      ]
    },
    {
      "cell_type": "code",
      "metadata": {
        "id": "LXB_jHtlXdmC",
        "outputId": "82a5219b-8168-4c24-c729-e1a403418fdd",
        "colab": {
          "base_uri": "https://localhost:8080/"
        }
      },
      "source": [
        "arr = np.array([[1,2,3,4],[10,11,12,13]])\n",
        "arr"
      ],
      "execution_count": 26,
      "outputs": [
        {
          "output_type": "execute_result",
          "data": {
            "text/plain": [
              "array([[ 1,  2,  3,  4],\n",
              "       [10, 11, 12, 13]])"
            ]
          },
          "metadata": {
            "tags": []
          },
          "execution_count": 26
        }
      ]
    },
    {
      "cell_type": "code",
      "metadata": {
        "id": "fQZUTwFIXdmD",
        "outputId": "da72a58d-36e5-4398-e63a-3967f1a111e7"
      },
      "source": [
        "arr + arr    # 배열끼리 연산하기 (＋－*/ 모두 가능)"
      ],
      "execution_count": null,
      "outputs": [
        {
          "output_type": "execute_result",
          "data": {
            "text/plain": [
              "array([[ 2,  4,  6,  8],\n",
              "       [20, 22, 24, 26]])"
            ]
          },
          "metadata": {
            "tags": []
          },
          "execution_count": 20
        }
      ]
    },
    {
      "cell_type": "code",
      "metadata": {
        "id": "GNniZYroXdmE",
        "outputId": "ed7dfcc4-cc33-44fe-c065-b7d8aab8f883",
        "colab": {
          "base_uri": "https://localhost:8080/"
        }
      },
      "source": [
        "arr+arr"
      ],
      "execution_count": 27,
      "outputs": [
        {
          "output_type": "execute_result",
          "data": {
            "text/plain": [
              "array([[ 2,  4,  6,  8],\n",
              "       [20, 22, 24, 26]])"
            ]
          },
          "metadata": {
            "tags": []
          },
          "execution_count": 27
        }
      ]
    },
    {
      "cell_type": "code",
      "metadata": {
        "scrolled": true,
        "id": "q8qN18v8XdmE",
        "outputId": "b8625ecb-b24a-482b-f647-56d8fe4ad781"
      },
      "source": [
        "arr + 20     # 덧셈 브로드캐스팅"
      ],
      "execution_count": null,
      "outputs": [
        {
          "output_type": "execute_result",
          "data": {
            "text/plain": [
              "array([[21, 22, 23, 24],\n",
              "       [30, 31, 32, 33]])"
            ]
          },
          "metadata": {
            "tags": []
          },
          "execution_count": 21
        }
      ]
    },
    {
      "cell_type": "code",
      "metadata": {
        "id": "Gttgk9oGXdmG",
        "outputId": "62265080-69ea-47ae-9711-e8559d89f944",
        "colab": {
          "base_uri": "https://localhost:8080/"
        }
      },
      "source": [
        "arr + 20"
      ],
      "execution_count": 28,
      "outputs": [
        {
          "output_type": "execute_result",
          "data": {
            "text/plain": [
              "array([[21, 22, 23, 24],\n",
              "       [30, 31, 32, 33]])"
            ]
          },
          "metadata": {
            "tags": []
          },
          "execution_count": 28
        }
      ]
    },
    {
      "cell_type": "code",
      "metadata": {
        "id": "Fq17wbsRXdmG",
        "outputId": "280c79fd-bd90-4cd0-aa89-e92a4c43149e"
      },
      "source": [
        "arr * 100    # 곱셈 브로드캐스팅"
      ],
      "execution_count": null,
      "outputs": [
        {
          "output_type": "execute_result",
          "data": {
            "text/plain": [
              "array([[ 100,  200,  300,  400],\n",
              "       [1000, 1100, 1200, 1300]])"
            ]
          },
          "metadata": {
            "tags": []
          },
          "execution_count": 22
        }
      ]
    },
    {
      "cell_type": "code",
      "metadata": {
        "id": "VZu3h2M3XdmH",
        "outputId": "04806a8e-c261-4b0a-bf86-997c5fb35617",
        "colab": {
          "base_uri": "https://localhost:8080/"
        }
      },
      "source": [
        "arr * 100"
      ],
      "execution_count": 29,
      "outputs": [
        {
          "output_type": "execute_result",
          "data": {
            "text/plain": [
              "array([[ 100,  200,  300,  400],\n",
              "       [1000, 1100, 1200, 1300]])"
            ]
          },
          "metadata": {
            "tags": []
          },
          "execution_count": 29
        }
      ]
    },
    {
      "cell_type": "code",
      "metadata": {
        "id": "bySfsO3rXdmI",
        "outputId": "a835ab03-2047-4957-b48c-95a2e0f055c6"
      },
      "source": [
        "# 배열 전체의 덧셈, 평균, 곱셈, 최댓값, 최솟값\n",
        "arr.sum(), arr.mean(), arr.prod(), arr.max(), arr.min()"
      ],
      "execution_count": null,
      "outputs": [
        {
          "output_type": "execute_result",
          "data": {
            "text/plain": [
              "(56, 7.0, 411840, 13, 1)"
            ]
          },
          "metadata": {
            "tags": []
          },
          "execution_count": 23
        }
      ]
    },
    {
      "cell_type": "code",
      "metadata": {
        "id": "FjB3yOpXXdmJ",
        "outputId": "e70fcff1-c1f1-42b4-bdae-97fd3e200cec",
        "colab": {
          "base_uri": "https://localhost:8080/"
        }
      },
      "source": [
        "arr.sum(), arr.mean(), arr.prod(), arr.max(), arr.min()"
      ],
      "execution_count": 31,
      "outputs": [
        {
          "output_type": "execute_result",
          "data": {
            "text/plain": [
              "(56, 7.0, 411840, 13, 1)"
            ]
          },
          "metadata": {
            "tags": []
          },
          "execution_count": 31
        }
      ]
    },
    {
      "cell_type": "code",
      "metadata": {
        "id": "pzCj81NTXdmK",
        "outputId": "e0a861b0-5104-4e53-d772-42d4a05b3593"
      },
      "source": [
        "# 배열에서의 최대인 원소의 번호, 최소인 원소의 번호\n",
        "arr.argmax(), arr[1].argmax(), arr.argmin()"
      ],
      "execution_count": null,
      "outputs": [
        {
          "output_type": "execute_result",
          "data": {
            "text/plain": [
              "(7, 3, 0)"
            ]
          },
          "metadata": {
            "tags": []
          },
          "execution_count": 24
        }
      ]
    },
    {
      "cell_type": "code",
      "metadata": {
        "id": "mWkjje9tXdmM",
        "outputId": "005b2669-7e9e-4bea-de63-72ccd3a39cbe",
        "colab": {
          "base_uri": "https://localhost:8080/"
        }
      },
      "source": [
        "arr.argmax(), arr[1].argmax(), arr.argmin()"
      ],
      "execution_count": 32,
      "outputs": [
        {
          "output_type": "execute_result",
          "data": {
            "text/plain": [
              "(7, 3, 0)"
            ]
          },
          "metadata": {
            "tags": []
          },
          "execution_count": 32
        }
      ]
    },
    {
      "cell_type": "code",
      "metadata": {
        "id": "dRp2CRKQXdmM",
        "outputId": "fdd90274-0380-4466-fe9f-34f18505b1c7"
      },
      "source": [
        "# 특정 축(차원)으로 덧셈 수행하기\n",
        "arr.sum(axis=0), arr.sum(axis=1)"
      ],
      "execution_count": null,
      "outputs": [
        {
          "output_type": "execute_result",
          "data": {
            "text/plain": [
              "(array([11, 13, 15, 17]), array([10, 46]))"
            ]
          },
          "metadata": {
            "tags": []
          },
          "execution_count": 25
        }
      ]
    },
    {
      "cell_type": "code",
      "metadata": {
        "id": "GQ2-scu_XdmO",
        "outputId": "47064870-3211-4f20-ee48-5db4ee9b64e9",
        "colab": {
          "base_uri": "https://localhost:8080/"
        }
      },
      "source": [
        "arr.sum(axis=0), arr.sum(axis=1)"
      ],
      "execution_count": 33,
      "outputs": [
        {
          "output_type": "execute_result",
          "data": {
            "text/plain": [
              "(array([11, 13, 15, 17]), array([10, 46]))"
            ]
          },
          "metadata": {
            "tags": []
          },
          "execution_count": 33
        }
      ]
    },
    {
      "cell_type": "code",
      "metadata": {
        "id": "TFGGLcGbXdmO",
        "outputId": "b9660e60-44a2-443b-9d56-b9579bab175e"
      },
      "source": [
        "# Indexing + Slicing + Aggregation 응용\n",
        "arr[1].min(), arr[1][2:].sum()"
      ],
      "execution_count": null,
      "outputs": [
        {
          "output_type": "execute_result",
          "data": {
            "text/plain": [
              "(10, 25)"
            ]
          },
          "metadata": {
            "tags": []
          },
          "execution_count": 26
        }
      ]
    },
    {
      "cell_type": "code",
      "metadata": {
        "id": "lNZ3CULEXdmP",
        "outputId": "e59256d3-9881-40d1-958e-336bd111d2ef",
        "colab": {
          "base_uri": "https://localhost:8080/"
        }
      },
      "source": [
        "arr[1].min(), arr[1][2:].sum()"
      ],
      "execution_count": 34,
      "outputs": [
        {
          "output_type": "execute_result",
          "data": {
            "text/plain": [
              "(10, 25)"
            ]
          },
          "metadata": {
            "tags": []
          },
          "execution_count": 34
        }
      ]
    },
    {
      "cell_type": "markdown",
      "metadata": {
        "id": "EtyIKCH1XdmQ"
      },
      "source": [
        "#### numpy 기본 4. 고급 Broadcasting"
      ]
    },
    {
      "cell_type": "code",
      "metadata": {
        "id": "oDOU6HwzXdmR",
        "outputId": "4341b71c-6cb2-4652-dc24-26c6d02ad9ac"
      },
      "source": [
        "arr1 = np.array([[0,0,0],[10,10,10],[20,20,20],[30,30,30]])\n",
        "arr2 = np.array([[0,1,2],[0,1,2],[0,1,2],[0,1,2]])\n",
        "arr1.shape, arr2.shape"
      ],
      "execution_count": null,
      "outputs": [
        {
          "output_type": "execute_result",
          "data": {
            "text/plain": [
              "((4, 3), (4, 3))"
            ]
          },
          "metadata": {
            "tags": []
          },
          "execution_count": 27
        }
      ]
    },
    {
      "cell_type": "code",
      "metadata": {
        "id": "B435c-GfXdmS",
        "outputId": "8578ad3e-3de2-47ad-a921-2b9fa7fbae81",
        "colab": {
          "base_uri": "https://localhost:8080/"
        }
      },
      "source": [
        "arr1= np.array([[0,0,0],[10,10,10],[20,20,20],[30,30,30]])\n",
        "arr2 = np.array([[0,1,2],[0,1,2],[0,1,2],[0,1,2]])\n",
        "arr1.shape, arr2.shape"
      ],
      "execution_count": 37,
      "outputs": [
        {
          "output_type": "execute_result",
          "data": {
            "text/plain": [
              "((4, 3), (4, 3))"
            ]
          },
          "metadata": {
            "tags": []
          },
          "execution_count": 37
        }
      ]
    },
    {
      "cell_type": "code",
      "metadata": {
        "id": "unu88hVxXdmS",
        "outputId": "7f7e3b06-ce32-4bd4-f89d-a4a607cbd505"
      },
      "source": [
        "arr1 + arr2          # (4x3)  +  (4x3)"
      ],
      "execution_count": null,
      "outputs": [
        {
          "output_type": "execute_result",
          "data": {
            "text/plain": [
              "array([[ 0,  1,  2],\n",
              "       [10, 11, 12],\n",
              "       [20, 21, 22],\n",
              "       [30, 31, 32]])"
            ]
          },
          "metadata": {
            "tags": []
          },
          "execution_count": 28
        }
      ]
    },
    {
      "cell_type": "code",
      "metadata": {
        "id": "C45A5bj_XdmU",
        "outputId": "320eca72-bdc1-4893-c8ca-9d2587d2db1a",
        "colab": {
          "base_uri": "https://localhost:8080/"
        }
      },
      "source": [
        "arr1+arr2"
      ],
      "execution_count": 38,
      "outputs": [
        {
          "output_type": "execute_result",
          "data": {
            "text/plain": [
              "array([[ 0,  1,  2],\n",
              "       [10, 11, 12],\n",
              "       [20, 21, 22],\n",
              "       [30, 31, 32]])"
            ]
          },
          "metadata": {
            "tags": []
          },
          "execution_count": 38
        }
      ]
    },
    {
      "cell_type": "code",
      "metadata": {
        "id": "CkP3NWRfXdmU",
        "outputId": "26684ecf-0df3-4865-8712-151dad7692df"
      },
      "source": [
        "arr1 + np.array([0,1,2])     # (4x3) + (1x3)"
      ],
      "execution_count": null,
      "outputs": [
        {
          "output_type": "execute_result",
          "data": {
            "text/plain": [
              "array([[ 0,  1,  2],\n",
              "       [10, 11, 12],\n",
              "       [20, 21, 22],\n",
              "       [30, 31, 32]])"
            ]
          },
          "metadata": {
            "tags": []
          },
          "execution_count": 29
        }
      ]
    },
    {
      "cell_type": "code",
      "metadata": {
        "id": "5Y4R0BohXdmW",
        "outputId": "7eb89747-f382-42df-be2d-7fe953108b7e",
        "colab": {
          "base_uri": "https://localhost:8080/"
        }
      },
      "source": [
        "arr1 + np.array([0,1,2])"
      ],
      "execution_count": 40,
      "outputs": [
        {
          "output_type": "execute_result",
          "data": {
            "text/plain": [
              "array([[ 0,  1,  2],\n",
              "       [10, 11, 12],\n",
              "       [20, 21, 22],\n",
              "       [30, 31, 32]])"
            ]
          },
          "metadata": {
            "tags": []
          },
          "execution_count": 40
        }
      ]
    },
    {
      "cell_type": "code",
      "metadata": {
        "id": "62LAaNagXdmW",
        "outputId": "7dc6cc17-0ebd-421c-9098-09dac71913e8"
      },
      "source": [
        "#  (4x1) + (1x3)\n",
        "np.array([[0],[10],[20],[30]]) + np.array([0,1,2])"
      ],
      "execution_count": null,
      "outputs": [
        {
          "output_type": "execute_result",
          "data": {
            "text/plain": [
              "array([[ 0,  1,  2],\n",
              "       [10, 11, 12],\n",
              "       [20, 21, 22],\n",
              "       [30, 31, 32]])"
            ]
          },
          "metadata": {
            "tags": []
          },
          "execution_count": 30
        }
      ]
    },
    {
      "cell_type": "code",
      "metadata": {
        "id": "oCBkc9kKXdmX",
        "outputId": "add9bf9f-e1c1-44aa-a1c8-53507f8f3143",
        "colab": {
          "base_uri": "https://localhost:8080/"
        }
      },
      "source": [
        "np.array([[0], [10],[20],[30]]) + np.array([0,1,2])"
      ],
      "execution_count": 42,
      "outputs": [
        {
          "output_type": "execute_result",
          "data": {
            "text/plain": [
              "array([[ 0,  1,  2],\n",
              "       [10, 11, 12],\n",
              "       [20, 21, 22],\n",
              "       [30, 31, 32]])"
            ]
          },
          "metadata": {
            "tags": []
          },
          "execution_count": 42
        }
      ]
    },
    {
      "cell_type": "code",
      "metadata": {
        "id": "V4-wrJ-edMAd"
      },
      "source": [
        ""
      ],
      "execution_count": null,
      "outputs": []
    }
  ]
}